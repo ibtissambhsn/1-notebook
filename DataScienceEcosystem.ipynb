{
 "cells": [
  {
   "cell_type": "markdown",
   "id": "19fd6c07-5b05-488c-88a7-b18d9fb53491",
   "metadata": {},
   "source": [
    "## Data Science Tools and Ecosystem"
   ]
  },
  {
   "cell_type": "markdown",
   "id": "3ede6997-4987-48b6-ab54-94ee5a7479f9",
   "metadata": {},
   "source": [
    "In this notebook, Data Science Tools and Ecosystem are summarized.\n",
    "\n",
    "#### Objectives:\n",
    "1. Creating a Jupyter Notebook using Skills Network \n",
    "2. Create Markdown cells\n",
    "3. Create and share a public Jupyter notebook, in Guithub\n",
    "\n",
    "#### List popular languages for Data Science\n",
    "\n",
    "* Python\n",
    "* R\n",
    "* Julia\n",
    "* MATLAB\n",
    "* SAS\n",
    "* SQL"
   ]
  },
  {
   "cell_type": "markdown",
   "id": "057d7d10-c4f7-4a6e-b6a8-531c01cb603b",
   "metadata": {},
   "source": [
    "Some of the popular languages that Data Scientists use are:\n",
    "1. Python\n",
    "2. R Studio\n",
    "3. SQL"
   ]
  },
  {
   "cell_type": "markdown",
   "id": "ae981461-f3e2-4b1d-a491-0e38b88d403a",
   "metadata": {},
   "source": [
    "Some of the commonly used libraries used by Data Scientists include:\n",
    "1. Pandas\n",
    "2. Numpy\n",
    "3. matplotlib"
   ]
  },
  {
   "cell_type": "markdown",
   "id": "84bfb6df-522e-4c62-896a-519de5f1422f",
   "metadata": {},
   "source": [
    "|Data Science Tools|\n",
    "|------------------|\n",
    "|Jupyter|\n",
    "|Apache zeppelin|\n",
    "|R Studio|\n"
   ]
  },
  {
   "cell_type": "markdown",
   "id": "56ca479f-e8f0-4db0-af6c-05bdf83f19d0",
   "metadata": {},
   "source": [
    "### Below are a few examples of evaluating arithmetic expressions in Python"
   ]
  },
  {
   "cell_type": "code",
   "execution_count": 5,
   "id": "f1d8ac37-f84a-423f-b2a9-6b55ce6fd0fa",
   "metadata": {},
   "outputs": [
    {
     "name": "stdout",
     "output_type": "stream",
     "text": [
      "17\n"
     ]
    }
   ],
   "source": [
    "S=(3*4)+5\n",
    "## This a simple arithmetic expression to mutiply then add integers\n",
    "print (S)"
   ]
  },
  {
   "cell_type": "code",
   "execution_count": 7,
   "id": "e70038f8-4edd-496a-83e0-6e0fa36bb4c2",
   "metadata": {},
   "outputs": [
    {
     "data": {
      "text/plain": [
       "3.3333333333333335"
      ]
     },
     "execution_count": 7,
     "metadata": {},
     "output_type": "execute_result"
    }
   ],
   "source": [
    "#  This will convert 200 minutes to hours by diving by 60\n",
    "200 / 60"
   ]
  },
  {
   "cell_type": "markdown",
   "id": "e931caa3-8880-47df-9778-a4a4411224f9",
   "metadata": {},
   "source": [
    "## Author \n",
    "Ibtissame BOUHASSOUNE"
   ]
  },
  {
   "cell_type": "code",
   "execution_count": null,
   "id": "52aec8dc-8d3a-4049-89fe-97e5c5d5feaf",
   "metadata": {},
   "outputs": [],
   "source": []
  }
 ],
 "metadata": {
  "kernelspec": {
   "display_name": "Python",
   "language": "python",
   "name": "conda-env-python-py"
  },
  "language_info": {
   "codemirror_mode": {
    "name": "ipython",
    "version": 3
   },
   "file_extension": ".py",
   "mimetype": "text/x-python",
   "name": "python",
   "nbconvert_exporter": "python",
   "pygments_lexer": "ipython3",
   "version": "3.7.12"
  }
 },
 "nbformat": 4,
 "nbformat_minor": 5
}
